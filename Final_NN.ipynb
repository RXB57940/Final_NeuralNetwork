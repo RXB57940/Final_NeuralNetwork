{
  "nbformat": 4,
  "nbformat_minor": 0,
  "metadata": {
    "colab": {
      "provenance": []
    },
    "kernelspec": {
      "name": "python3",
      "display_name": "Python 3"
    },
    "language_info": {
      "name": "python"
    }
  },
  "cells": [
    {
      "cell_type": "code",
      "source": [
        "\n",
        "import pandas as pd\n",
        "import re\n",
        "from tensorflow.keras.preprocessing.text import Tokenizer\n",
        "from tensorflow.keras.preprocessing.sequence import pad_sequences\n",
        "from tensorflow.keras.models import Sequential, load_model\n",
        "from tensorflow.keras.layers import Dense, Embedding, LSTM\n",
        "from sklearn.preprocessing import LabelEncoder\n",
        "from tensorflow.keras.utils import to_categorical\n",
        "import numpy as np\n",
        "\n",
        "\n",
        "data = pd.read_csv('Data.csv')\n",
        "data = data[['text', 'sentiment']]\n",
        "data['text'] = data['text'].apply(lambda x: x.lower())\n",
        "data['text'] = data['text'].apply(lambda x: re.sub('[^a-zA-z0-9\\\\s]', '', x))\n",
        "data['text'] = data['text'].apply(lambda x: x.replace('rt', ' '))\n",
        "\n",
        "\n",
        "max_features = 2000\n",
        "tokenizer = Tokenizer(num_words=max_features, split=' ')\n",
        "tokenizer.fit_on_texts(data['text'].values)\n",
        "X = tokenizer.texts_to_sequences(data['text'].values)\n",
        "X = pad_sequences(X)\n",
        "\n",
        "\n",
        "labelencoder = LabelEncoder()\n",
        "integer_encoded = labelencoder.fit_transform(data['sentiment'])\n",
        "y = to_categorical(integer_encoded)\n",
        "\n",
        "\n",
        "def createmodel(embed_dim=128, lstm_out=196):\n",
        "    model = Sequential()\n",
        "    model.add(Embedding(max_features, embed_dim, input_length=X.shape[1]))\n",
        "    model.add(LSTM(lstm_out, dropout=0.2, recurrent_dropout=0.2))\n",
        "    model.add(Dense(3, activation='softmax'))\n",
        "    model.compile(loss='categorical_crossentropy', optimizer='adam', metrics=['accuracy'])\n",
        "    return model\n",
        "\n",
        "model = createmodel()\n",
        "model.fit(X, y, epochs=3, batch_size=32, verbose=1)\n",
        "\n",
        "\n",
        "model.save('saved_lstm_model.h5')\n",
        "\n",
        "\n",
        "new_text = [\"A lot of good things are happening. We are respected again throughout the world, and that's a great thing .@realDonaldTrump\"]\n",
        "new_text_proc = [re.sub('[^a-zA-z0-9\\\\s]', '', s.lower()).replace('rt', ' ') for s in new_text]\n",
        "seq = tokenizer.texts_to_sequences(new_text_proc)\n",
        "padded = pad_sequences(seq, maxlen=X.shape[1])\n",
        "\n",
        "loaded_model = load_model('saved_lstm_model.h5')\n",
        "prediction = loaded_model.predict(padded)\n",
        "predicted_class = np.argmax(prediction)\n",
        "predicted_sentiment = labelencoder.inverse_transform([predicted_class])\n",
        "\n",
        "print(\"Predicted Sentiment:\", predicted_sentiment[0])\n",
        "\n",
        "from sklearn.model_selection import GridSearchCV\n",
        "from scikeras.wrappers import KerasClassifier\n",
        "\n",
        "# Define build_model function with parameters for GridSearchCV\n",
        "def build_model(embed_dim=128, lstm_out=196):\n",
        "    model = Sequential()\n",
        "    model.add(Embedding(max_features, embed_dim, input_length=X.shape[1]))\n",
        "    model.add(LSTM(lstm_out, dropout=0.2, recurrent_dropout=0.2))\n",
        "    model.add(Dense(3, activation='softmax'))\n",
        "    model.compile(loss='categorical_crossentropy', optimizer='adam', metrics=['accuracy'])\n",
        "    return model\n",
        "\n",
        "# Correct usage with build_fn\n",
        "keras_model = KerasClassifier(\n",
        "    build_fn=build_model,\n",
        "    verbose=0\n",
        ")\n",
        "\n",
        "# Hyperparameter grid\n",
        "param_grid = {\n",
        "    'embed_dim': [64, 128],\n",
        "    'lstm_out': [128, 196],\n",
        "    'batch_size': [16, 32],\n",
        "    'epochs': [3]  # Keep small for testing\n",
        "}\n",
        "\n",
        "grid = GridSearchCV(estimator=keras_model, param_grid=param_grid, cv=3)\n",
        "grid_result = grid.fit(X, y)\n",
        "\n",
        "print(\"Best Score: {:.2f}%\".format(grid_result.best_score_ * 100))\n",
        "print(\"Best Parameters:\", grid_result.best_params_)\n"
      ],
      "metadata": {
        "colab": {
          "base_uri": "https://localhost:8080/"
        },
        "id": "Mr6-p-obVyyK",
        "outputId": "68f7a6e6-b45d-4b50-8247-68fa3762c01d"
      },
      "execution_count": null,
      "outputs": [
        {
          "output_type": "stream",
          "name": "stderr",
          "text": [
            "/usr/local/lib/python3.11/dist-packages/keras/src/layers/core/embedding.py:90: UserWarning: Argument `input_length` is deprecated. Just remove it.\n",
            "  warnings.warn(\n"
          ]
        },
        {
          "output_type": "stream",
          "name": "stdout",
          "text": [
            "Epoch 1/3\n",
            "\u001b[1m434/434\u001b[0m \u001b[32m━━━━━━━━━━━━━━━━━━━━\u001b[0m\u001b[37m\u001b[0m \u001b[1m72s\u001b[0m 155ms/step - accuracy: 0.6267 - loss: 0.8645\n",
            "Epoch 2/3\n",
            "\u001b[1m434/434\u001b[0m \u001b[32m━━━━━━━━━━━━━━━━━━━━\u001b[0m\u001b[37m\u001b[0m \u001b[1m85s\u001b[0m 162ms/step - accuracy: 0.7189 - loss: 0.6644\n",
            "Epoch 3/3\n",
            "\u001b[1m394/434\u001b[0m \u001b[32m━━━━━━━━━━━━━━━━━━\u001b[0m\u001b[37m━━\u001b[0m \u001b[1m6s\u001b[0m 162ms/step - accuracy: 0.7398 - loss: 0.6254"
          ]
        }
      ]
    }
  ]
}